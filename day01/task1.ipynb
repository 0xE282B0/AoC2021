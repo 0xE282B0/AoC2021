{
 "cells": [
  {
   "cell_type": "code",
   "execution_count": null,
   "metadata": {},
   "outputs": [],
   "source": [
    "!pip3 install rx        "
   ]
  },
  {
   "cell_type": "code",
   "execution_count": null,
   "metadata": {},
   "outputs": [],
   "source": [
    "import rx\n",
    "from rx import operators as op\n",
    "with open('data/input.txt') as file:\n",
    "    file = [int(f.rstrip()) for f in file]\n",
    "    f = rx.from_iterable(file)\n",
    "    f.pipe(\n",
    "        op.skip(1),\n",
    "        op.zip(rx.from_iterable(file)),\n",
    "        op.map(lambda x: (int(x[0])>int(x[1]))),\n",
    "        op.sum()\n",
    "    ).subscribe(\n",
    "     lambda x: print(\"The value is {0}\".format(x)),\n",
    "     lambda error: print(\"Error:\", error),\n",
    "     lambda: print(\"Complete!\"))"
   ]
  },
  {
   "cell_type": "code",
   "execution_count": null,
   "metadata": {},
   "outputs": [],
   "source": [
    "import rx\n",
    "from rx import operators as op\n",
    "with open('data/input.txt') as file:\n",
    "    file = [int(f.rstrip()) for f in file]\n",
    "    \n",
    "    w1 = rx.from_iterable(file)\\\n",
    "        .pipe(\n",
    "            op.window_with_count(3,1)\n",
    "        )\n",
    "    \n",
    "    a1 = []\n",
    "    w1.pipe(\n",
    "        op.flat_map(lambda x: x.pipe(op.sum()))\n",
    "    ).subscribe(\n",
    "     lambda x: a1.append(x),\n",
    "     lambda error: print(\"Error:\", error),\n",
    "     lambda: print(\"Complete!\"))"
   ]
  },
  {
   "cell_type": "code",
   "execution_count": null,
   "metadata": {},
   "outputs": [],
   "source": [
    "f = rx.from_iterable(a1[:-3])\n",
    "f.pipe(\n",
    "    op.skip(1),\n",
    "    op.zip(rx.from_iterable(a1[:-3])),\n",
    "    op.map(lambda x: (int(x[0])>int(x[1]))),\n",
    "    op.sum()\n",
    ").subscribe(\n",
    "    lambda x: print(\"The value is {0}\".format(x)),\n",
    "    lambda error: print(\"Error:\", error),\n",
    "    lambda: print(\"Complete!\"))"
   ]
  }
 ],
 "metadata": {
  "interpreter": {
   "hash": "aee8b7b246df8f9039afb4144a1f6fd8d2ca17a180786b69acc140d282b71a49"
  },
  "kernelspec": {
   "display_name": "Python 3.9.8 64-bit",
   "language": "python",
   "name": "python3"
  },
  "language_info": {
   "codemirror_mode": {
    "name": "ipython",
    "version": 3
   },
   "file_extension": ".py",
   "mimetype": "text/x-python",
   "name": "python",
   "nbconvert_exporter": "python",
   "pygments_lexer": "ipython3",
   "version": "3.9.9"
  },
  "orig_nbformat": 4
 },
 "nbformat": 4,
 "nbformat_minor": 2
}
